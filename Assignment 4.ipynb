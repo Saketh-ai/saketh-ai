{
 "cells": [
  {
   "cell_type": "code",
   "execution_count": 48,
   "metadata": {},
   "outputs": [
    {
     "name": "stdout",
     "output_type": "stream",
     "text": [
      "Enter Length of the first side 5\n",
      "Enter the Length of second side 3\n",
      "Enter the Length of Third side 3\n"
     ]
    },
    {
     "data": {
      "text/plain": [
       "4.14578098794425"
      ]
     },
     "execution_count": 48,
     "metadata": {},
     "output_type": "execute_result"
    }
   ],
   "source": [
    "#1.1 Write a Python Program(with class concepts) to find the area of the triangle using the below\n",
    "\n",
    "\n",
    "\n",
    "class A:\n",
    "    def take_length(self):\n",
    "        self.a=input(\"Enter Length of the first side \")\n",
    "        self.b=input(\"Enter the Length of second side \")\n",
    "        self.c=input(\"Enter the Length of Third side \")\n",
    "    \n",
    "class B(A):\n",
    "    \n",
    "    def area(self):\n",
    "        s=(int(self.a)+int(self.b)+int(self.c))/2\n",
    "        s1=(s*(s-int(self.a))*(s-int(self.b))*(s-int(self.c)))**0.5\n",
    "        return s1\n",
    "        \n",
    "k=B()\n",
    "k.take_length()\n",
    "k.area()       \n",
    "    \n",
    "    \n",
    "    \n",
    "        "
   ]
  },
  {
   "cell_type": "code",
   "execution_count": null,
   "metadata": {},
   "outputs": [],
   "source": [
    "#1.2 Write a function filter_long_words() that takes a list of words and an integer n and returns\n",
    "#the list of words that are longer than n."
   ]
  },
  {
   "cell_type": "code",
   "execution_count": null,
   "metadata": {},
   "outputs": [],
   "source": [
    "def filter_long_words(lst,n):\n",
    "    c=[]\n",
    "    for i in lst:\n",
    "        if int(len(i))>=int(n):\n",
    "            c.append(i)\n",
    "    return c\n",
    "\n",
    "a=input(\" Input a String\")\n",
    "a1=a.split(' ')\n",
    "n=input(\" Input an integer\")\n",
    "k=filter_long_words(a1,n)\n",
    "print(k)"
   ]
  },
  {
   "cell_type": "code",
   "execution_count": null,
   "metadata": {},
   "outputs": [],
   "source": [
    "#2.1 Write a Python program using function concept that maps list of words into a list of integers\n",
    "#representing the lengths of the corresponding words."
   ]
  },
  {
   "cell_type": "code",
   "execution_count": null,
   "metadata": {},
   "outputs": [],
   "source": [
    "lst=['Hello','What','are','you']\n",
    " \n",
    "def length(lst):\n",
    "    c=[]\n",
    "    for i in range(len(lst)):\n",
    "        c.append(len(str(lst[i])))\n",
    "    return c\n",
    "a=length(lst)\n",
    "a"
   ]
  },
  {
   "cell_type": "code",
   "execution_count": null,
   "metadata": {},
   "outputs": [],
   "source": [
    "#2.2 Write a Python function which takes a character (i.e. a string of length 1) and returns True if\n",
    "#it is a vowel, False otherwise."
   ]
  },
  {
   "cell_type": "code",
   "execution_count": 49,
   "metadata": {},
   "outputs": [
    {
     "name": "stdout",
     "output_type": "stream",
     "text": [
      " Enter a single character : o\n",
      "Character is Vowel\n"
     ]
    }
   ],
   "source": [
    "a2=input(\" Enter a single character : \")\n",
    "\n",
    "def check_vowel(i):\n",
    "    if i=='a':\n",
    "        return True\n",
    "    elif i=='e':\n",
    "        return True\n",
    "    elif i=='o':\n",
    "        return True\n",
    "    elif i=='i':\n",
    "        return True\n",
    "    elif i=='u':\n",
    "        return True\n",
    "    \n",
    "    else:\n",
    "        return False\n",
    "\n",
    "k=check_vowel(a2)\n",
    "\n",
    "if k==True:\n",
    "    print('Character is Vowel')\n",
    "else:\n",
    "    print(' Character is not a vowel')\n",
    "\n",
    "\n",
    "    "
   ]
  },
  {
   "cell_type": "code",
   "execution_count": null,
   "metadata": {},
   "outputs": [],
   "source": []
  }
 ],
 "metadata": {
  "kernelspec": {
   "display_name": "Python 3",
   "language": "python",
   "name": "python3"
  },
  "language_info": {
   "codemirror_mode": {
    "name": "ipython",
    "version": 3
   },
   "file_extension": ".py",
   "mimetype": "text/x-python",
   "name": "python",
   "nbconvert_exporter": "python",
   "pygments_lexer": "ipython3",
   "version": "3.7.4"
  }
 },
 "nbformat": 4,
 "nbformat_minor": 2
}
